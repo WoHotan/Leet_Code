{
 "cells": [
  {
   "cell_type": "markdown",
   "metadata": {},
   "source": [
    "给定一个链表，两两交换其中相邻的节点，并返回交换后的链表。\n",
    "\n",
    "示例:\n",
    "\n",
    "给定 1->2->3->4, 你应该返回 2->1->4->3.\n",
    "说明:\n",
    "\n",
    "你的算法只能使用常数的额外空间。\n",
    "你不能只是单纯的改变节点内部的值，而是需要实际的进行节点交换。"
   ]
  },
  {
   "cell_type": "code",
   "execution_count": 27,
   "metadata": {},
   "outputs": [],
   "source": [
    "class ListNode:\n",
    "    def __init__(self, x):\n",
    "        self.val = x\n",
    "        self.next = None"
   ]
  },
  {
   "cell_type": "code",
   "execution_count": 45,
   "metadata": {},
   "outputs": [],
   "source": [
    "def swapPairs(self, head):\n",
    "    pre, pre.next = self, head\n",
    "    while pre.next and pre.next.next:\n",
    "        a, b = pre.next, a.next\n",
    "        pre.next, b.next, a.next = b, a, b.next\n",
    "        pre = a\n",
    "    return self.next"
   ]
  }
 ],
 "metadata": {
  "kernelspec": {
   "display_name": "Python 3",
   "language": "python",
   "name": "python3"
  },
  "language_info": {
   "codemirror_mode": {
    "name": "ipython",
    "version": 3
   },
   "file_extension": ".py",
   "mimetype": "text/x-python",
   "name": "python",
   "nbconvert_exporter": "python",
   "pygments_lexer": "ipython3",
   "version": "3.6.5"
  }
 },
 "nbformat": 4,
 "nbformat_minor": 2
}
