{
 "cells": [
  {
   "cell_type": "code",
   "execution_count": 2,
   "metadata": {},
   "outputs": [
    {
     "name": "stdout",
     "output_type": "stream",
     "text": [
      "PINALSIGYAHRPI\n"
     ]
    }
   ],
   "source": [
    "def convert(s,numRows):\n",
    "    if (numRows==1):return s\n",
    "    a=[[]for i in range(numRows)]#产生一个有numRows单元的list，每个list可以往后面添加元素\n",
    "    r=0\n",
    "    direct=1\n",
    "    for i in s:\n",
    "        a[r].append(i)\n",
    "        if r>=numRows-1:\n",
    "            direct=-1\n",
    "        elif r==0:\n",
    "            direct=1\n",
    "        r+=direct\n",
    "    answer=''\n",
    "    for row in a:\n",
    "        for col in row:\n",
    "            answer+=col\n",
    "    return answer\n",
    "if __name__=='__main__':\n",
    "    print(convert('PAYPALISHIRING',4))"
   ]
  }
 ],
 "metadata": {
  "kernelspec": {
   "display_name": "Python 3",
   "language": "python",
   "name": "python3"
  },
  "language_info": {
   "codemirror_mode": {
    "name": "ipython",
    "version": 3
   },
   "file_extension": ".py",
   "mimetype": "text/x-python",
   "name": "python",
   "nbconvert_exporter": "python",
   "pygments_lexer": "ipython3",
   "version": "3.6.3"
  }
 },
 "nbformat": 4,
 "nbformat_minor": 2
}
