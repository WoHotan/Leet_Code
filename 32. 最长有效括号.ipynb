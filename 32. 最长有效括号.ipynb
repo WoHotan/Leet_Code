{
 "cells": [
  {
   "cell_type": "markdown",
   "metadata": {},
   "source": [
    "[32. 最长有效括号](https://leetcode-cn.com/problems/longest-valid-parentheses/description/)\n",
    "\n",
    "给定一个只包含 '(' 和 ')' 的字符串，找出最长的包含有效括号的子串的长度。\n",
    "\n",
    "示例 1:\n",
    "\n",
    "    输入: \"(()\"\n",
    "    输出: 2\n",
    "    解释: 最长有效括号子串为 \"()\"\n",
    "示例 2:\n",
    "\n",
    "    输入: \")()())\"\n",
    "    输出: 4\n",
    "    解释: 最长有效括号子串为 \"()()\""
   ]
  },
  {
   "cell_type": "code",
   "execution_count": 17,
   "metadata": {},
   "outputs": [],
   "source": [
    "class Solution:\n",
    "    def longestValidParentheses(self, s):\n",
    "        stack = [0]\n",
    "        longest = 0\n",
    "        for c in s:\n",
    "            if c == '(':\n",
    "                stack.append(0)\n",
    "            else:\n",
    "                if len(stack) > 1:\n",
    "                    val = stack.pop()\n",
    "                    stack[-1] += val +2\n",
    "                    longest = max(longest, stack[-1])\n",
    "                else:\n",
    "                    stack = [0]\n",
    "        return longest"
   ]
  },
  {
   "cell_type": "code",
   "execution_count": null,
   "metadata": {},
   "outputs": [],
   "source": [
    "class Solution:\n",
    "    def longestValidParentheses(self, s):\n",
    "        if not s or len(s) < 2: return 0\n",
    "        stack = []"
   ]
  },
  {
   "cell_type": "code",
   "execution_count": 18,
   "metadata": {},
   "outputs": [
    {
     "data": {
      "text/plain": [
       "8"
      ]
     },
     "execution_count": 18,
     "metadata": {},
     "output_type": "execute_result"
    }
   ],
   "source": [
    "S = Solution()\n",
    "S.longestValidParentheses('(()))()()()()')"
   ]
  }
 ],
 "metadata": {
  "kernelspec": {
   "display_name": "Python 3",
   "language": "python",
   "name": "python3"
  },
  "language_info": {
   "codemirror_mode": {
    "name": "ipython",
    "version": 3
   },
   "file_extension": ".py",
   "mimetype": "text/x-python",
   "name": "python",
   "nbconvert_exporter": "python",
   "pygments_lexer": "ipython3",
   "version": "3.6.5"
  }
 },
 "nbformat": 4,
 "nbformat_minor": 2
}
