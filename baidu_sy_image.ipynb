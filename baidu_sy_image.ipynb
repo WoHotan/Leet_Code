{
 "cells": [
  {
   "cell_type": "code",
   "execution_count": null,
   "metadata": {},
   "outputs": [],
   "source": [
    "#服务器端\n",
    "import socket, time\n",
    "import threading\n",
    "s = socket.socket(socket.AF_INET, socket.SOCK_STREAM)\n",
    "#监听端口\n",
    "s.bind(('127.0.0.1', 9999))\n",
    "s.listen(5)\n",
    "print('Waiting for connection...')\n",
    "def tcplink(sock, addr):\n",
    "    print('Accept new connection from %s: %s...' % addr)\n",
    "    sock.send(b'Welcome!')\n",
    "    while True:\n",
    "        data = sock.recv(1024)\n",
    "        time.sleep(1)\n",
    "        if not data or data.decode('utf-8')=='exit':\n",
    "              break\n",
    "        sock.send(('Hello, %s!'% data.decode('utf-8')).encode('utf-8'))\n",
    "    sock.close()\n",
    "    print('Connection from %s: %s closed' % addr)\n",
    "while True:\n",
    "    #接受一个新连接：\n",
    "    sock, addr = s.accept()\n",
    "    # 创建新线程来处理TCP连接\n",
    "    t = threading.Thread(target=tcplink, args=(sock, addr))\n",
    "    t.start()\n"
   ]
  },
  {
   "cell_type": "code",
   "execution_count": 3,
   "metadata": {},
   "outputs": [
    {
     "name": "stdout",
     "output_type": "stream",
     "text": [
      "Welcome!\n",
      "Hello, Michael!\n",
      "Hello, Tracy!\n",
      "Hello, Sarah!\n"
     ]
    }
   ],
   "source": [
    "#Client\n",
    "import socket\n",
    "s = socket.socket(socket.AF_INET, socket.SOCK_STREAM)\n",
    "# 建立连接:\n",
    "s.connect(('127.0.0.1', 9999))\n",
    "# 接收欢迎消息:\n",
    "print(s.recv(1024).decode('utf-8'))\n",
    "for data in [b'Michael', b'Tracy', b'Sarah']:\n",
    "    # 发送数据:\n",
    "    s.send(data)\n",
    "    print(s.recv(1024).decode('utf-8'))\n",
    "s.send(b'exit')\n",
    "s.close()"
   ]
  }
 ],
 "metadata": {
  "kernelspec": {
   "display_name": "Python 3",
   "language": "python",
   "name": "python3"
  },
  "language_info": {
   "codemirror_mode": {
    "name": "ipython",
    "version": 3
   },
   "file_extension": ".py",
   "mimetype": "text/x-python",
   "name": "python",
   "nbconvert_exporter": "python",
   "pygments_lexer": "ipython3",
   "version": "3.6.6"
  }
 },
 "nbformat": 4,
 "nbformat_minor": 2
}
