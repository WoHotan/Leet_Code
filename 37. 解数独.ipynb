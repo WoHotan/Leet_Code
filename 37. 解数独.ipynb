{
 "cells": [
  {
   "cell_type": "markdown",
   "metadata": {},
   "source": [
    "[37. 解数独](https://leetcode-cn.com/problems/sudoku-solver/)"
   ]
  },
  {
   "cell_type": "code",
   "execution_count": 4,
   "metadata": {},
   "outputs": [],
   "source": [
    "class Solution:\n",
    "    # @param board, a 9x9 2D array\n",
    "    # Solve the Sudoku by bodifying the input board in-place.\n",
    "    # Do not return any value\n",
    "    \n",
    "    def solveSudoku(self, board):\n",
    "        self.board = board\n",
    "        self.solve()\n",
    "    \n",
    "    def findUnassigned(self):\n",
    "        for row in range(9):\n",
    "            for col in range(9):\n",
    "                if self.board[row][col] == '.':\n",
    "                    return row, col\n",
    "        return -1, -1\n",
    "    \n",
    "    def solve(self):\n",
    "        row, col = self.findUnassigned()\n",
    "        # no unassigned position is found, puzzle solved\n",
    "        if row == -1 and col == -1:\n",
    "            return True\n",
    "        for num in [\"1\",\"2\",\"3\",\"4\",\"5\",\"6\",\"7\",\"8\",\"9\"]:\n",
    "            if self.isSafe(row, col, num):\n",
    "                self.board[row][col] == num\n",
    "                if self.solve():\n",
    "                    return True\n",
    "                self.board[row][col] == '.'\n",
    "        return False\n",
    "    \n",
    "    def isSafe(self, row, col, ch):\n",
    "        boxrow = row - row%3\n",
    "        boxcol = col - col%3\n",
    "        if self.checkrow(row, ch) and self.checkcol(col, ch) and self.checksquare(boxrow, boxcol, ch):\n",
    "            return True\n",
    "        return False\n",
    "    \n",
    "    def checkrow(self, row, ch):\n",
    "        for col in range(9):\n",
    "            if self.board[row][col] == ch:\n",
    "                return False\n",
    "        return True\n",
    "    \n",
    "    def checkcol(self, col, ch):\n",
    "        for row in range(9):\n",
    "            if self.board[row][col] == ch:\n",
    "                return False\n",
    "        return True\n",
    "    \n",
    "    def checksquare(self, row, col, ch):\n",
    "        for r in range(row, row+3):\n",
    "            for c in range(col,  col+3):\n",
    "                if self.board[row][col] == ch:\n",
    "                    return False\n",
    "        return True\n",
    "        "
   ]
  },
  {
   "cell_type": "markdown",
   "metadata": {},
   "source": [
    "board = [[\"5\",\"3\",\".\",\".\",\"7\",\".\",\".\",\".\",\".\"],[\"6\",\".\",\".\",\"1\",\"9\",\"5\",\".\",\".\",\".\"],[\".\",\"9\",\"8\",\".\",\".\",\".\",\".\",\"6\",\".\"],[\"8\",\".\",\".\",\".\",\"6\",\".\",\".\",\".\",\"3\"],[\"4\",\".\",\".\",\"8\",\".\",\"3\",\".\",\".\",\"1\"],[\"7\",\".\",\".\",\".\",\"2\",\".\",\".\",\".\",\"6\"],[\".\",\"6\",\".\",\".\",\".\",\".\",\"2\",\"8\",\".\"],[\".\",\".\",\".\",\"4\",\"1\",\"9\",\".\",\".\",\"5\"],[\".\",\".\",\".\",\".\",\"8\",\".\",\".\",\"7\",\"9\"]]\n",
    "s = Solution()\n",
    "s.solveSudoku(board)\n"
   ]
  },
  {
   "cell_type": "code",
   "execution_count": 29,
   "metadata": {},
   "outputs": [],
   "source": [
    "board = [[\"5\",\"3\",\".\",\".\",\"7\",\".\",\".\",\".\",\".\"],[\"6\",\".\",\".\",\"1\",\"9\",\"5\",\".\",\".\",\".\"],[\".\",\"9\",\"8\",\".\",\".\",\".\",\".\",\"6\",\".\"],[\"8\",\".\",\".\",\".\",\"6\",\".\",\".\",\".\",\"3\"],[\"4\",\".\",\".\",\"8\",\".\",\"3\",\".\",\".\",\"1\"],[\"7\",\".\",\".\",\".\",\"2\",\".\",\".\",\".\",\"6\"],[\".\",\"6\",\".\",\".\",\".\",\".\",\"2\",\"8\",\".\"],[\".\",\".\",\".\",\"4\",\"1\",\"9\",\".\",\".\",\"5\"],[\".\",\".\",\".\",\".\",\"8\",\".\",\".\",\"7\",\"9\"]]"
   ]
  },
  {
   "cell_type": "code",
   "execution_count": 35,
   "metadata": {},
   "outputs": [],
   "source": [
    "class Solution:\n",
    "    def solveSudoku(self, board):\n",
    "        def dfs(board, stack1):\n",
    "            if not stack1: return\n",
    "            x, y = stack1.pop()\n",
    "            box = [board[x//3*3+i][y//3*3+j] for i in range(3) for j in range(3)]\n",
    "            row = [board[x][j] for j in range(9)]\n",
    "            col = [board[i][y] for i in range(9)]\n",
    "            for i in '123456789':\n",
    "                if not any([i in box, i in col, i in row]):\n",
    "                    board[x][y] = i\n",
    "                    dfs(board, stack1)\n",
    "                    if not stack1: return\n",
    "            board[x][y] = '.'\n",
    "        stack1 = [(i, j) for i in range(9) for j in range(9) if board[i][j] == '.']\n",
    "        dfs(board, stack1)\n",
    "        stack1 = [(i, j) for i in range(9) for j in range(9) if board[i][j] == '.']\n",
    "        dfs(board, stack1)"
   ]
  },
  {
   "cell_type": "code",
   "execution_count": 37,
   "metadata": {},
   "outputs": [
    {
     "name": "stdout",
     "output_type": "stream",
     "text": [
      "[['5', '3', '.', '2', '7', '6', '.', '9', '4'], ['6', '4', '2', '1', '9', '5', '3', '.', '7'], ['1', '9', '8', '.', '.', '.', '5', '6', '2'], ['8', '.', '.', '.', '6', '4', '9', '5', '3'], ['4', '5', '6', '8', '.', '3', '7', '2', '1'], ['7', '.', '.', '.', '2', '.', '8', '4', '6'], ['3', '6', '1', '.', '.', '.', '2', '8', '.'], ['.', '.', '7', '4', '1', '9', '6', '3', '5'], ['.', '.', '5', '3', '8', '2', '1', '7', '9']]\n"
     ]
    }
   ],
   "source": [
    "s = Solution()\n",
    "s.solveSudoku(board)\n",
    "print(board)"
   ]
  },
  {
   "cell_type": "code",
   "execution_count": 38,
   "metadata": {},
   "outputs": [
    {
     "ename": "SyntaxError",
     "evalue": "invalid syntax (<ipython-input-38-89d9a3ba6903>, line 2)",
     "output_type": "error",
     "traceback": [
      "\u001b[0;36m  File \u001b[0;32m\"<ipython-input-38-89d9a3ba6903>\"\u001b[0;36m, line \u001b[0;32m2\u001b[0m\n\u001b[0;31m    public class Solution {\u001b[0m\n\u001b[0m               ^\u001b[0m\n\u001b[0;31mSyntaxError\u001b[0m\u001b[0;31m:\u001b[0m invalid syntax\n"
     ]
    }
   ],
   "source": [
    "### JAVA Solution:\n",
    "public class Solution {\n",
    "    public void solveSudoku(char[][] board) {\n",
    "        if (board == null || board.length == 0)\n",
    "            return;\n",
    "        solve(board);\n",
    "        \n",
    "    }\n",
    "    \n",
    "    public boolean solve(char[][] board) {\n",
    "        for (int i = 0; i < board.length; i++) {\n",
    "            for (int j = 0;  < board.length; j++) {\n",
    "                for c in '123456789':\n",
    "                        if isValid(board, i, j, c):\n",
    "                            board[i][j] =c\n",
    "                            if solve(board):\n",
    "                                return True\n",
    "              board,              else:\n",
    "                                board[i][j] = '.'\n",
    "                    rif (board[i][j] == '.') {\n",
    "                    for(char c = '1'; c <= '9'; c++){//trial. Try 1 through 9\n",
    "                        if(isValid(board, i, j, c)){\n",
    "                            board[i][j] = c; //put c for this cell\n",
    "                            \n",
    "                            if(solve(board))\n",
    "                                return true; //If it's the solution return true\n",
    "                            else\n",
    "                                board[i][j] = '.'; //Otherwise go back\n",
    "                        }\n",
    "                        \n",
    "                    }\n",
    "                    return false\n",
    "                }\n",
    "            }\n",
    "        }\n",
    "        return true\n",
    "    }\n",
    "\n",
    "    public boolean isValid(char[][] board, int row, int col, char c){\n",
    "        for(int i = 0; i < 9; i++){\n",
    "            if(board[i][col] == c) return false\n",
    "            if(board[row][i] == c) return false\n",
    "            if(board[3 * (row / 3) + i /3][ 3 * (col /3) + i % 3] == c) return false\n",
    "        }\n",
    "        return true\n",
    "    }\n",
    "}   "
   ]
  },
  {
   "cell_type": "code",
   "execution_count": 54,
   "metadata": {},
   "outputs": [],
   "source": [
    "class Solutions():\n",
    "    def solveSudoku(self, board):\n",
    "        self.board = board\n",
    "        if self.board == None and len(self.board) == 0:\n",
    "            return\n",
    "        self.solve()\n",
    "    \n",
    "    def solve(self):\n",
    "        for i in range(len(self.board[0])):\n",
    "            for j in range(len(self.board)):\n",
    "                if self.board[i][j] == '.':\n",
    "                    for c in '123456789':\n",
    "                        if self.isValid(i, j, c):\n",
    "                            self.board[i][j] =c\n",
    "                            if self.solve():\n",
    "                                return True\n",
    "                            else:\n",
    "                                self.board[i][j] = '.'\n",
    "                    return False\n",
    "        return True\n",
    "    \n",
    "    def isValid(self, row, col, c):\n",
    "        for i in range(9):\n",
    "            if self.board[i][col] == c: return False\n",
    "            if self.board[row][i] == c: return False\n",
    "            if self.board[3 * (row // 3) + i // 3][ 3 * (col //3) + i % 3] == c: return False\n",
    "        return True"
   ]
  },
  {
   "cell_type": "code",
   "execution_count": 55,
   "metadata": {},
   "outputs": [
    {
     "name": "stdout",
     "output_type": "stream",
     "text": [
      "[['5', '3', '.', '2', '7', '6', '.', '9', '4'], ['6', '4', '2', '1', '9', '5', '3', '.', '7'], ['1', '9', '8', '.', '.', '.', '5', '6', '2'], ['8', '.', '.', '.', '6', '4', '9', '5', '3'], ['4', '5', '6', '8', '.', '3', '7', '2', '1'], ['7', '.', '.', '.', '2', '.', '8', '4', '6'], ['3', '6', '1', '.', '.', '.', '2', '8', '.'], ['.', '.', '7', '4', '1', '9', '6', '3', '5'], ['.', '.', '5', '3', '8', '2', '1', '7', '9']]\n"
     ]
    }
   ],
   "source": [
    "s = Solutions()\n",
    "s.solveSudoku(board)\n",
    "print(board)"
   ]
  }
 ],
 "metadata": {
  "kernelspec": {
   "display_name": "Python 3",
   "language": "python",
   "name": "python3"
  },
  "language_info": {
   "codemirror_mode": {
    "name": "ipython",
    "version": 3
   },
   "file_extension": ".py",
   "mimetype": "text/x-python",
   "name": "python",
   "nbconvert_exporter": "python",
   "pygments_lexer": "ipython3",
   "version": "3.7.0"
  }
 },
 "nbformat": 4,
 "nbformat_minor": 2
}
