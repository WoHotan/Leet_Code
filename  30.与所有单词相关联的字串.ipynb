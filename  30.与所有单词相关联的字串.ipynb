{
 "cells": [
  {
   "cell_type": "markdown",
   "metadata": {},
   "source": [
    "[ 30.与所有单词相关联的字串](https://leetcode-cn.com/problems/substring-with-concatenation-of-all-words/description/)\n",
    "\n",
    "给定一个字符串 s 和一些长度相同的单词 words。在 s 中找出可以恰好串联 words 中所有单词的子串的起始位置。\n",
    "\n",
    "注意子串要与 words 中的单词完全匹配，中间不能有其他字符，但不需要考虑 words 中单词串联的顺序。\n",
    "\n",
    "示例 1:\n",
    "\n",
    "输入:\n",
    "  s = \"barfoothefoobarman\",\n",
    "  words = [\"foo\",\"bar\"]\n",
    "输出: [0,9]\n",
    "解释: 从索引 0 和 9 开始的子串分别是 \"barfoor\" 和 \"foobar\" 。\n",
    "输出的顺序不重要, [9,0] 也是有效答案。\n",
    "示例 2:\n",
    "\n",
    "输入:\n",
    "  s = \"wordgoodstudentgoodword\",\n",
    "  words = [\"word\",\"student\"]\n",
    "输出: []"
   ]
  },
  {
   "cell_type": "code",
   "execution_count": 8,
   "metadata": {},
   "outputs": [],
   "source": [
    "def findSubstring(s, words):\n",
    "    words_len = list(map(len, words))\n",
    "    result = []\n",
    "    s_len = len(s)-1\n",
    "    words_lens = sum(words_len)\n",
    "    finall_pos = -1\n",
    "    while  finall_pos < s_len:\n",
    "        pos = [s[finall_pos+1:].find(word) for word in words]\n",
    "        finall_pos = pos.index(max(pos))\n",
    "        finall_len = words_len[finall_pos]\n",
    "        if sum(words_len) == max(pos) + finall_len:\n",
    "            result.append(min(pos))\n",
    "        finall_pos += finall_pos\n",
    "    return result"
   ]
  },
  {
   "cell_type": "code",
   "execution_count": 26,
   "metadata": {},
   "outputs": [],
   "source": [
    "class Solution(object):\n",
    "    def findSubstring(self, s, words):\n",
    "        result = []\n",
    "        if not words or len(s) < len(words)*len(words[0]):\n",
    "            return result\n",
    "        wl, total_length, n, word_dict = len(words[0]), len(words)*len(words[0]), len(s), {}\n",
    "        # init word_dict\n",
    "        for w in words:\n",
    "            word_dict[w] = word_dict.get(w, 0) + 1\n",
    "        #loop i here mean if there is a result index, then the result index must\n",
    "        #be i + m*wl, m is [0,1,2,3,4,5....]\n",
    "        for i in range(wl):\n",
    "            #it is a dynamic lenth window problem here\n",
    "            #init the left boundary adn tmp_dict\n",
    "            left, tmp_dict = i, {}\n",
    "            for j in range(i, n-wl+1, wl):\n",
    "                # for each string, right boundary is fixed j+wl, only thing to \n",
    "                # consider is to shrink left boundary or not\n",
    "                str_ = s[j: j+wl]\n",
    "                right = j+wl\n",
    "                if word_dict.get(str_):\n",
    "                    tmp_dict[str_] = tmp_dict.get(str_, 0) + 1\n",
    "                    # if current tmp_dict is not valid, keep moving the left boundary until it is valid\n",
    "                    while tmp_dict[str_] > word_dict[str_]:\n",
    "                        tmp_dict[s[left:left+wl]] -= 1\n",
    "                        left += wl\n",
    "                    # if the window length equal to result length\n",
    "                    if right - left == total_length:\n",
    "                        result.append(left)\n",
    "                        # shrink the window by moving the left to right with wl\n",
    "                        tmp_dict[s[left:left+wl]] -= 1\n",
    "                        left += wl\n",
    "                else:\n",
    "                    # if current str not in word_dict, then move left to next j\n",
    "                    left, tmp_dict = j+wl, {}\n",
    "            return result\n",
    "            "
   ]
  },
  {
   "cell_type": "code",
   "execution_count": 57,
   "metadata": {},
   "outputs": [],
   "source": [
    "# work well\n",
    "from collections import  defaultdict\n",
    "class Solution(object):\n",
    "    def findSubstring(self, s, words):\n",
    "        res = []\n",
    "        if len(words) == 0 or len(s) < len(words[0])*len(words):\n",
    "            return res\n",
    "        str_len = len(s)\n",
    "        word_len = len(words[0])\n",
    "        total_len = len(words)*word_len\n",
    "        map_dict = defaultdict(int)\n",
    "        cur_dict = defaultdict(int)\n",
    "        for word in words:\n",
    "            map_dict[word] +=1\n",
    "        for start in range(0, str_len - total_len + 1):\n",
    "            end = start\n",
    "            while end < start + total_len:\n",
    "                substr = s[end: end + word_len ]\n",
    "                cur_dict[substr] += 1\n",
    "                #如果当前dict中还有之前的没有的， 或者值比之前的大都终止\n",
    "                if cur_dict[substr] > map_dict[substr]:\n",
    "                    break\n",
    "                end += word_len\n",
    "            if end == start + total_len:\n",
    "                res.append(start)\n",
    "            cur_dict.clear()\n",
    "        return res"
   ]
  },
  {
   "cell_type": "code",
   "execution_count": 53,
   "metadata": {},
   "outputs": [],
   "source": [
    "s = \"afoobarfoothefoobarmanfoobaraaaaa\"\n",
    "words = [\"foo\",\"bar\"]"
   ]
  },
  {
   "cell_type": "code",
   "execution_count": 56,
   "metadata": {},
   "outputs": [
    {
     "name": "stdout",
     "output_type": "stream",
     "text": [
      "[1, 4, 13, 22]\n"
     ]
    }
   ],
   "source": [
    "if __name__ == '__main__':\n",
    "    S = Solution()\n",
    "    print(S.findSubstring(s, words))"
   ]
  }
 ],
 "metadata": {
  "kernelspec": {
   "display_name": "Python 3",
   "language": "python",
   "name": "python3"
  },
  "language_info": {
   "codemirror_mode": {
    "name": "ipython",
    "version": 3
   },
   "file_extension": ".py",
   "mimetype": "text/x-python",
   "name": "python",
   "nbconvert_exporter": "python",
   "pygments_lexer": "ipython3",
   "version": "3.6.5"
  }
 },
 "nbformat": 4,
 "nbformat_minor": 2
}
