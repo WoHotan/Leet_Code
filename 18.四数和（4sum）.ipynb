{
 "cells": [
  {
   "cell_type": "markdown",
   "metadata": {},
   "source": [
    "## [18. 四数之和](https://leetcode-cn.com/problems/4sum/description/)\n",
    "\n",
    "给定一个包含 n 个整数的数组 nums 和一个目标值 target，判断 nums 中是否存在四个元素 a，b，c 和 d ，使得 a + b + c + d 的值与 target 相等？找出所有满足条件且不重复的四元组。\n",
    "\n",
    "注意：\n",
    "\n",
    "答案中不可以包含重复的四元组。\n",
    "\n",
    "示例：\n",
    "\n",
    "给定数组 nums = [1, 0, -1, 0, -2, 2]，和 target = 0。\n",
    "\n",
    "满足要求的四元组集合为：\n",
    "[\n",
    "  [-1,  0, 0, 1],\n",
    "  [-2, -1, 1, 2],\n",
    "  [-2,  0, 0, 2]\n",
    "]"
   ]
  },
  {
   "cell_type": "code",
   "execution_count": 1,
   "metadata": {},
   "outputs": [],
   "source": [
    "def fourSum(self, nums, target):\n",
    "    def findNsum(nums, target, N, result, results):\n",
    "        if len(nums) < N or N < 2 or target < nums[0]*N or target > nums[-1]*N:  # early termination\n",
    "            return\n",
    "        if N == 2: # two pointers solve sorted 2-sum problem\n",
    "            l,r = 0,len(nums)-1\n",
    "            while l < r:\n",
    "                s = nums[l] + nums[r]\n",
    "                if s == target:\n",
    "                    results.append(result + [nums[l], nums[r]])\n",
    "                    l += 1\n",
    "                    while l < r and nums[l] == nums[l-1]:\n",
    "                        l += 1\n",
    "                elif s < target:\n",
    "                    l += 1\n",
    "                else:\n",
    "                    r -= 1\n",
    "        else: # recursively reduce N\n",
    "            for i in range(len(nums)-N+1):\n",
    "                if i == 0 or (i > 0 and nums[i-1] != nums[i]):\n",
    "                    findNsum(nums[i+1:], target-nums[i], N-1, result+[nums[i]], results)\n",
    "\n",
    "    results = []\n",
    "    findNsum(sorted(nums), target, 4, [], results)\n",
    "    return results"
   ]
  }
 ],
 "metadata": {
  "kernelspec": {
   "display_name": "Python 3",
   "language": "python",
   "name": "python3"
  },
  "language_info": {
   "codemirror_mode": {
    "name": "ipython",
    "version": 3
   },
   "file_extension": ".py",
   "mimetype": "text/x-python",
   "name": "python",
   "nbconvert_exporter": "python",
   "pygments_lexer": "ipython3",
   "version": "3.6.6"
  }
 },
 "nbformat": 4,
 "nbformat_minor": 2
}
