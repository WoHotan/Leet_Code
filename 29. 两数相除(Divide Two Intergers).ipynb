{
 "cells": [
  {
   "cell_type": "markdown",
   "metadata": {},
   "source": [
    "[29. 两数相除](https://leetcode-cn.com/problems/divide-two-integers/description/)\n",
    "\n",
    "给定两个整数，被除数 dividend 和除数 divisor。将两数相除，要求不使用乘法、除法和 mod 运算符。\n",
    "\n",
    "返回被除数 dividend 除以除数 divisor 得到的商。\n",
    "\n",
    "示例 1:\n",
    "\n",
    "输入: dividend = 10, divisor = 3\n",
    "输出: 3\n",
    "示例 2:\n",
    "\n",
    "输入: dividend = 7, divisor = -3\n",
    "输出: -2\n",
    "说明:\n",
    "\n",
    "被除数和除数均为 32 位有符号整数。\n",
    "除数不为 0。\n",
    "假设我们的环境只能存储 32 位有符号整数，其数值范围是 [−231,  231 − 1]。本题中，如果除法结果溢出，则返回 231 − 1。"
   ]
  },
  {
   "cell_type": "code",
   "execution_count": 5,
   "metadata": {},
   "outputs": [],
   "source": [
    "def divide(dividend, divisor):\n",
    "    count = 0\n",
    "    dividend, divisor = abs(dividend), abs(divisor)\n",
    "    if (dividend > 0 and divisor > 0) or (dividend < 0 and divisor < 0):\n",
    "        while dividend >= divisor:\n",
    "            dividend -= divisor\n",
    "            count += 1\n",
    "    elif (dividend < 0 and divisor > 0) or (dividend > 0 and divisor < 0):\n",
    "        while dividend >= divisor:\n",
    "            dividend -= divisor\n",
    "            count -= 1\n",
    "    elif dividend == 0:\n",
    "        return 0\n",
    "    else:\n",
    "        raise ZeroDivisionError('Divisor can not be 0')\n",
    "    if -2**31 > count or count > 2**31-1:\n",
    "        return 2**31-1\n",
    "    else:\n",
    "        return count\n",
    "            "
   ]
  },
  {
   "cell_type": "code",
   "execution_count": 12,
   "metadata": {},
   "outputs": [],
   "source": [
    "def divide(A, B):\n",
    "    if (A == -2**31 and B == -1): return 2**31\n",
    "    a, b, res = abs(A), abs(B), 0\n",
    "    for x in range(32)[::-1]:\n",
    "        if (a >> x) -b >= 0:\n",
    "            res += 1 << x\n",
    "            a -= b << x\n",
    "    return res if (A > 0) == (B > 0) else -res "
   ]
  },
  {
   "cell_type": "code",
   "execution_count": 22,
   "metadata": {},
   "outputs": [],
   "source": [
    "def divide(dividend, divisor):\n",
    "    neg = ((dividend < 0) != (divisor < 0))\n",
    "    dividend = left = abs(dividend)\n",
    "    divisor = div = abs(divisor)\n",
    "    if dividend < divisor:\n",
    "        return 0\n",
    "    Q = 1\n",
    "    ans = 0\n",
    "    while left >= div:\n",
    "        left -= div\n",
    "        ans += Q\n",
    "        Q += Q\n",
    "        div += div\n",
    "    if neg:\n",
    "        return max(-(ans + divide(left, divisor)), -2**31)\n",
    "    else:\n",
    "        return min(ans + divide(left, divisor), 2**31-1)"
   ]
  },
  {
   "cell_type": "code",
   "execution_count": 8,
   "metadata": {},
   "outputs": [],
   "source": [
    "def divide(dividend, divisor):\n",
    "    neg = ((dividend < 0) != (divisor < 0))\n",
    "    dividend = left = abs(dividend)\n",
    "    divisor = div = abs(divisor)\n",
    "    Q = 1\n",
    "    ans = 0\n",
    "    while left >= divisor:\n",
    "        left -= div\n",
    "        ans += Q \n",
    "        div += div\n",
    "        if left < div:\n",
    "            div = divisor\n",
    "            Q = 1\n",
    "    if neg:\n",
    "        return max(-ans-1, -2**31)\n",
    "    else:\n",
    "        return min(ans+1, 2**31-1)"
   ]
  },
  {
   "cell_type": "code",
   "execution_count": 9,
   "metadata": {},
   "outputs": [
    {
     "data": {
      "text/plain": [
       "3"
      ]
     },
     "execution_count": 9,
     "metadata": {},
     "output_type": "execute_result"
    }
   ],
   "source": [
    "divide(10,3)"
   ]
  }
 ],
 "metadata": {
  "kernelspec": {
   "display_name": "Python 3",
   "language": "python",
   "name": "python3"
  },
  "language_info": {
   "codemirror_mode": {
    "name": "ipython",
    "version": 3
   },
   "file_extension": ".py",
   "mimetype": "text/x-python",
   "name": "python",
   "nbconvert_exporter": "python",
   "pygments_lexer": "ipython3",
   "version": "3.6.5"
  }
 },
 "nbformat": 4,
 "nbformat_minor": 2
}
