{
 "cells": [
  {
   "cell_type": "markdown",
   "metadata": {},
   "source": [
    "[25.Reverse Nodes in k-Group](https://leetcode.com/problems/reverse-nodes-in-k-group)\n",
    "\n",
    "给出一个链表，每 k 个节点一组进行翻转，并返回翻转后的链表。\n",
    "\n",
    "k 是一个正整数，它的值小于或等于链表的长度。如果节点总数不是 k 的整数倍，那么将最后剩余节点保持原有顺序。\n",
    "\n",
    "示例 :\n",
    "\n",
    "给定这个链表：1->2->3->4->5\n",
    "\n",
    "当 k = 2 时，应当返回: 2->1->4->3->5\n",
    "\n",
    "当 k = 3 时，应当返回: 3->2->1->4->5\n",
    "\n",
    "说明 :\n",
    "\n",
    "你的算法只能使用常数的额外空间。\n",
    "你不能只是单纯的改变节点内部的值，而是需要实际的进行节点交换。"
   ]
  },
  {
   "cell_type": "code",
   "execution_count": 1,
   "metadata": {},
   "outputs": [],
   "source": [
    "def reverseKGroup(self, head, k):\n",
    "    dummy = jump = ListNode(0)\n",
    "    dummy.next = r = l = head\n",
    "    while True:\n",
    "        count = 0\n",
    "        while r and count < k:\n",
    "            r = r.next\n",
    "            count += 1\n",
    "        if count == k:\n",
    "            pre, cur = r, l\n",
    "            for _ in range(k):\n",
    "                cur.next, cur, pre = pre, cur.next, cur # standard reversing\n",
    "            jump.next, jump, l = pre, l, r #connect two K-group\n",
    "        else:\n",
    "            return dummy.next"
   ]
  }
 ],
 "metadata": {
  "kernelspec": {
   "display_name": "Python 3",
   "language": "python",
   "name": "python3"
  },
  "language_info": {
   "codemirror_mode": {
    "name": "ipython",
    "version": 3
   },
   "file_extension": ".py",
   "mimetype": "text/x-python",
   "name": "python",
   "nbconvert_exporter": "python",
   "pygments_lexer": "ipython3",
   "version": "3.6.5"
  }
 },
 "nbformat": 4,
 "nbformat_minor": 2
}
