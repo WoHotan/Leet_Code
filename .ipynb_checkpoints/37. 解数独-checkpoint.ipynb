{
 "cells": [
  {
   "cell_type": "markdown",
   "metadata": {},
   "source": [
    "[37. 解数独](https://leetcode-cn.com/problems/sudoku-solver/)"
   ]
  },
  {
   "cell_type": "code",
   "execution_count": 4,
   "metadata": {},
   "outputs": [],
   "source": [
    "class Solution:\n",
    "    # @param board, a 9x9 2D array\n",
    "    # Solve the Sudoku by bodifying the input board in-place.\n",
    "    # Do not return any value\n",
    "    \n",
    "    def solveSudoku(self, board):\n",
    "        self.board = board\n",
    "        self.solve()\n",
    "    \n",
    "    def findUnassigned(self):\n",
    "        for row in range(9):\n",
    "            for col in range(9):\n",
    "                if self.board[row][col] == '.':\n",
    "                    return row, col\n",
    "        return -1, -1\n",
    "    \n",
    "    def solve(self):\n",
    "        row, col = self.findUnassigned()\n",
    "        # no unassigned position is found, puzzle solved\n",
    "        if row == -1 and col == -1:\n",
    "            return True\n",
    "        for num in [\"1\",\"2\",\"3\",\"4\",\"5\",\"6\",\"7\",\"8\",\"9\"]:\n",
    "            if self.isSafe(row, col, num):\n",
    "                self.board[row][col] == num\n",
    "                if self.solve():\n",
    "                    return True\n",
    "                self.board[row][col] == '.'\n",
    "        return False\n",
    "    \n",
    "    def isSafe(self, row, col, ch):\n",
    "        boxrow = row - row%3\n",
    "        boxcol = col - col%3\n",
    "        if self.checkrow(row, ch) and self.checkcol(col, ch) and self.checksquare(boxrow, boxcol, ch):\n",
    "            return True\n",
    "        return False\n",
    "    \n",
    "    def checkrow(self, row, ch):\n",
    "        for col in range(9):\n",
    "            if self.board[row][col] == ch:\n",
    "                return False\n",
    "        return True\n",
    "    \n",
    "    def checkcol(self, col, ch):\n",
    "        for row in range(9):\n",
    "            if self.board[row][col] == ch:\n",
    "                return False\n",
    "        return True\n",
    "    \n",
    "    def checksquare(self, row, col, ch):\n",
    "        for r in range(row, row+3):\n",
    "            for c in range(col,  col+3):\n",
    "                if self.board[row][col] == ch:\n",
    "                    return False\n",
    "        return True\n",
    "        "
   ]
  },
  {
   "cell_type": "markdown",
   "metadata": {},
   "source": [
    "board = [[\"5\",\"3\",\".\",\".\",\"7\",\".\",\".\",\".\",\".\"],[\"6\",\".\",\".\",\"1\",\"9\",\"5\",\".\",\".\",\".\"],[\".\",\"9\",\"8\",\".\",\".\",\".\",\".\",\"6\",\".\"],[\"8\",\".\",\".\",\".\",\"6\",\".\",\".\",\".\",\"3\"],[\"4\",\".\",\".\",\"8\",\".\",\"3\",\".\",\".\",\"1\"],[\"7\",\".\",\".\",\".\",\"2\",\".\",\".\",\".\",\"6\"],[\".\",\"6\",\".\",\".\",\".\",\".\",\"2\",\"8\",\".\"],[\".\",\".\",\".\",\"4\",\"1\",\"9\",\".\",\".\",\"5\"],[\".\",\".\",\".\",\".\",\"8\",\".\",\".\",\"7\",\"9\"]]\n",
    "s = Solution()\n",
    "s.solveSudoku(board)\n"
   ]
  },
  {
   "cell_type": "code",
   "execution_count": 8,
   "metadata": {},
   "outputs": [],
   "source": [
    "def dfs(board, stack1):\n",
    "    if not stack1: return\n",
    "    x, y = stack1.pop()\n",
    "    box = [board[x//3*3+i][y//3*3+j] for i in range(3) for j in range(3)]\n",
    "    row = [board[x][j] for j in range(9)]\n",
    "    col = [board[x][j] for x in range(9)]\n",
    "    for i in '123456789':\n",
    "        if not any([i in box, i in col, i in row]):\n",
    "            board[x][y] = i\n",
    "            dfs(board, stack1)\n",
    "            if not stack1: return\n",
    "    board[x][y] = '.'\n",
    "    stack1 = [(i, j) for i in range(9) for j in range(9) if board[i][j] == '.']\n",
    "    dfs(board, stack1)"
   ]
  },
  {
   "cell_type": "code",
   "execution_count": null,
   "metadata": {},
   "outputs": [],
   "source": []
  }
 ],
 "metadata": {
  "kernelspec": {
   "display_name": "Python 3",
   "language": "python",
   "name": "python3"
  },
  "language_info": {
   "codemirror_mode": {
    "name": "ipython",
    "version": 3
   },
   "file_extension": ".py",
   "mimetype": "text/x-python",
   "name": "python",
   "nbconvert_exporter": "python",
   "pygments_lexer": "ipython3",
   "version": "3.7.0"
  }
 },
 "nbformat": 4,
 "nbformat_minor": 2
}
