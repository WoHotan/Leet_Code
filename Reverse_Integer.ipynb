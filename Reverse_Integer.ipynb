{
 "cells": [
  {
   "cell_type": "code",
   "execution_count": 21,
   "metadata": {},
   "outputs": [
    {
     "name": "stdout",
     "output_type": "stream",
     "text": [
      "0\n"
     ]
    }
   ],
   "source": [
    "def reverse(x):\n",
    "    L=list(str(x))\n",
    "    L.reverse()\n",
    "    s=''.join(L)\n",
    "    if s[-1]=='-':\n",
    "        num= -int(s[0:-1])\n",
    "    else:num= int(s)\n",
    "    if num<-2**31 or num>2**31-1:\n",
    "        return 0\n",
    "    return num\n",
    "print(reverse(2147483649))"
   ]
  },
  {
   "cell_type": "code",
   "execution_count": null,
   "metadata": {
    "collapsed": true
   },
   "outputs": [],
   "source": [
    "def reverse(x):\n",
    "    x = int(str(x)[::-1]) if x >= 0 else - int(str(-x)[::-1])\n",
    "    return x if x < 2147483648 and x >= -2147483648 else 0"
   ]
  }
 ],
 "metadata": {
  "kernelspec": {
   "display_name": "Python 3",
   "language": "python",
   "name": "python3"
  },
  "language_info": {
   "codemirror_mode": {
    "name": "ipython",
    "version": 3
   },
   "file_extension": ".py",
   "mimetype": "text/x-python",
   "name": "python",
   "nbconvert_exporter": "python",
   "pygments_lexer": "ipython3",
   "version": "3.6.3"
  }
 },
 "nbformat": 4,
 "nbformat_minor": 2
}
