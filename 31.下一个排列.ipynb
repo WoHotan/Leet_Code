{
 "cells": [
  {
   "cell_type": "markdown",
   "metadata": {},
   "source": [
    "[31. 下一个排列](https://leetcode-cn.com/problems/next-permutation/description/)\n",
    "实现获取下一个排列的函数，算法需要将给定数字序列重新排列成字典序中下一个更大的排列。\n",
    "\n",
    "如果不存在下一个更大的排列，则将数字重新排列成最小的排列（即升序排列）。\n",
    "\n",
    "必须原地修改，只允许使用额外常数空间。\n",
    "\n",
    "以下是一些例子，输入位于左侧列，其相应输出位于右侧列。\n",
    "1,2,3 → 1,3,2\n",
    "3,2,1 → 1,2,3\n",
    "1,1,5 → 1,5,1"
   ]
  },
  {
   "attachments": {},
   "cell_type": "markdown",
   "metadata": {},
   "source": [
    "Approach 2: Single Pass Approach\n",
    "Algorithm\n",
    "\n",
    "First, we observe that for any given sequence that is in descending order, no next larger permutation is possible. For example, no next permutation is possible for the following array: [9, 5, 4, 3, 1]\n",
    "\n",
    "We need to find the first pair of two successive numbers a[i]a[i] and a[i-1]a[i−1], from the right, which satisfy a[i] &gt; a[i-1]a[i]>a[i−1]. Now, no rearrangements to the right of a[i-1]a[i−1] can create a larger permutation since that subarray consists of numbers in descending order. Thus, we need to rearrange the numbers to the right of a[i-1]a[i−1] including itself.\n",
    "\n",
    "Now, what kind of rearrangement will produce the next larger number? We want to create the permutation just larger than the current one. Therefore, we need to replace the number a[i-1]a[i−1] with the number which is just larger than itself among the numbers lying to its right section, say a[j]a[j].\n",
    "![image.png](https://leetcode.com/media/original_images/31_nums_graph.png)\n",
    "\n",
    "We swap the numbers a[i-1]a[i−1] and a[j]a[j]. We now have the correct number at index i-1i−1. But still the current permutation isn't the permutation that we are looking for. We need the smallest permutation that can be formed by using the numbers only to the right of a[i-1]a[i−1]. Therefore, we need to place those numbers in ascending order to get their smallest permutation.\n",
    "\n",
    "But, recall that while scanning the numbers from the right, we simply kept decrementing the index until we found the pair a[i]a[i] and a[i-1]a[i−1] where, a[i] &gt; a[i-1]a[i]>a[i−1]. Thus, all numbers to the right of a[i-1]a[i−1] were already sorted in descending order. Furthermore, swapping a[i-1]a[i−1] and a[j]a[j] didn't change that order. Therefore, we simply need to reverse the numbers following a[i-1]a[i−1] to get the next smallest lexicographic permutation.\n",
    "\n",
    "The following animation will make things clearer:\n",
    "\n",
    "![image.png](https://leetcode.com/media/original_images/31_Next_Permutation.gif)"
   ]
  },
  {
   "cell_type": "code",
   "execution_count": 35,
   "metadata": {},
   "outputs": [],
   "source": [
    "class Solution:\n",
    "    def nextPermutation(self, nums):\n",
    "        i = len(nums) -2\n",
    "        while (i >= 0 and nums[i + 1] <= nums[i]):\n",
    "            i -= 1\n",
    "        if i >= 0:\n",
    "            j = len(nums) -1\n",
    "            while j >= 0 and nums[j] <= nums[i]:\n",
    "                j -= 1\n",
    "            self.swap(nums, i, j)\n",
    "        self.reverse(nums, i+1)\n",
    "    def reverse(self, nums, start):\n",
    "        i, j = start, len(nums) -1\n",
    "        while i < j:\n",
    "            self.swap(nums, i, j)\n",
    "            i += 1\n",
    "            j -= 1\n",
    "    def swap(self, nums, i, j):\n",
    "        tmp = nums[i]\n",
    "        nums[i] = nums[j]\n",
    "        nums[j] = tmp"
   ]
  },
  {
   "cell_type": "code",
   "execution_count": 37,
   "metadata": {},
   "outputs": [],
   "source": [
    "class Solution:\n",
    "    def nextPermutation(self, nums):\n",
    "        i = len(nums) -2\n",
    "        while (i >= 0 and nums[i + 1] <= nums[i]):\n",
    "            i -= 1\n",
    "        if i >= 0:\n",
    "            j = len(nums) -1\n",
    "            while j >= 0 and nums[j] <= nums[i]:\n",
    "                j -= 1\n",
    "            self.swap(nums, i, j)\n",
    "        self.reverse(nums, i+1)\n",
    "    def reverse(self, nums, start):\n",
    "        i, j = start, len(nums) -1\n",
    "        while i < j:\n",
    "            self.swap(nums, i, j)\n",
    "            i += 1\n",
    "            j -= 1\n",
    "    def swap(self, nums, i, j):\n",
    "        nums[i], nums[j] = nums[j], nums[i]\n",
    "        "
   ]
  },
  {
   "cell_type": "code",
   "execution_count": 40,
   "metadata": {},
   "outputs": [
    {
     "data": {
      "text/plain": [
       "[3, 1, 4, 2]"
      ]
     },
     "execution_count": 40,
     "metadata": {},
     "output_type": "execute_result"
    }
   ],
   "source": [
    "nums = [3,1,2,4]\n",
    "S = Solution()\n",
    "S.nextPermutation(nums)\n",
    "nums"
   ]
  }
 ],
 "metadata": {
  "kernelspec": {
   "display_name": "Python 3",
   "language": "python",
   "name": "python3"
  },
  "language_info": {
   "codemirror_mode": {
    "name": "ipython",
    "version": 3
   },
   "file_extension": ".py",
   "mimetype": "text/x-python",
   "name": "python",
   "nbconvert_exporter": "python",
   "pygments_lexer": "ipython3",
   "version": "3.6.5"
  }
 },
 "nbformat": 4,
 "nbformat_minor": 2
}
