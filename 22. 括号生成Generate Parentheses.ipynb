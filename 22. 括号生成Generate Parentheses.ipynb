{
 "cells": [
  {
   "cell_type": "markdown",
   "metadata": {},
   "source": [
    "[Generate Parentheses](https://leetcode-cn.com/problems/generate-parentheses/description/)"
   ]
  },
  {
   "cell_type": "markdown",
   "metadata": {},
   "source": [
    "给出 n 代表生成括号的对数，请你写出一个函数，使其能够生成所有可能的并且有效的括号组合。\n",
    "\n",
    "例如，给出 n = 3，生成结果为：\n",
    "\n",
    "[\n",
    "  \"((()))\",\n",
    "  \"(()())\",\n",
    "  \"(())()\",\n",
    "  \"()(())\",\n",
    "  \"()()()\"\n",
    "]\n",
    "\n",
    "\n",
    "思路：首先我们必须要明确的是，要生成的括号一定是先以左括号开头的，如果一开始不是左括号，生成的就不是我们想要的类型。所以这道题我们为了遍历所有的加括号的情况，一定先生成左括号。分析示例，假设我们有3个左括号，3个右括号。比如说为了生成示例中的第一个，我们先添加尽可能多地添加左括号，然后在添加右括号。第二个，我们在生成了2个左括号后，加一个右括号，再加左括号。对比一下发现，与我们第一次连着添加三个左括号不同的是，第二次我们在添加了2个左括号后尝试着去添加右括号。这就非常符合DFS的思想：先一条路一直从左走到黑（添加左括号），再回到上个路口的节点尝试右边的路（添加右括号），所以到目前思维就明确了。"
   ]
  },
  {
   "cell_type": "code",
   "execution_count": 1,
   "metadata": {},
   "outputs": [],
   "source": [
    "class Solution:  \n",
    "    # @param an integer  \n",
    "    # @return a list of string \n",
    "    def generateParenthesis(self, n):\n",
    "        res_list = []\n",
    "        self.DFS(n, n, '', res)\n",
    "        return res_list\n",
    "        \n",
    " \n",
    "    def DFS(self, left, right, s, res):\n",
    "        if left == 0 and right == 0:\n",
    "            res.append(s)\n",
    "        else:\n",
    "            if left > 0:\n",
    "                self.DFS(left-1, right, s+'(', res)\n",
    "            if right > left:\n",
    "                self.DFS(left, right-1, s+')', res)\n"
   ]
  },
  {
   "cell_type": "markdown",
   "metadata": {},
   "source": [
    "这道题整体代码逻辑非常清晰，主函数+递归函数, DFS的left , right 分别表示左右括号的剩余数量，s表示目前制造的括号。高含金量的逻辑出现在DFS函数中的else部分。首先我们都知道base条件是左括号和右括号的数量都为0时。巧妙在于，我们的DFS一开始只会进入 if left > 0:里的函数，第一次函数递归完毕返回后，还是停留在left = 1 , s='(('的状况下，而且返回点在if left>0:下。接着它会进入right>left里，进行一次递归后又会进入if left > 0：里的递归函数。这就是DFS的魔力，它通过2个看起来平行的递归入口，通过代码顺序制造递归的先后，最终达到了深度优先搜索。\n",
    "\n",
    "\n",
    "\n",
    "反思易错：可能容易把 if right > left 写成 if right >= left。当right 数量与left 相等时，还是应该先加左括号的，所以不应该进行右括号数量减少的递归"
   ]
  }
 ],
 "metadata": {
  "kernelspec": {
   "display_name": "Python 3",
   "language": "python",
   "name": "python3"
  },
  "language_info": {
   "codemirror_mode": {
    "name": "ipython",
    "version": 3
   },
   "file_extension": ".py",
   "mimetype": "text/x-python",
   "name": "python",
   "nbconvert_exporter": "python",
   "pygments_lexer": "ipython3",
   "version": "3.6.6"
  }
 },
 "nbformat": 4,
 "nbformat_minor": 2
}
